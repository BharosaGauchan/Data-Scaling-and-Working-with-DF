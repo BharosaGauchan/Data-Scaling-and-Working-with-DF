{
 "cells": [
  {
   "cell_type": "markdown",
   "id": "ca7f19ef",
   "metadata": {},
   "source": [
    "### Data Scaling and Working with Dataframes\n",
    "#### When training models on data, often times it is useful to scale input features, so they all have a similar range of values. There are multiple ways to apply this scaling, and you will build functions to perform some of these. You will then apply this on some data."
   ]
  },
  {
   "cell_type": "markdown",
   "id": "31c024a8",
   "metadata": {},
   "source": [
    "1. Data Normalization\n",
    "A common method to scale a data set feature is to normalize it. This puts all of the features values\n",
    "on a scale between 0 and 1. Given a set of values X1, X2, . . . , Xn, each corresponding normalized value\n",
    "is calculated using the following formula.\n",
    "         \n",
    " normalized Xi = Xi − min{X1, X2, . . . , Xn} / max{X1, X2, . . . , Xn} − min{X1, X2, . . . , Xn}\n",
    "\n",
    "   Build a Python function that takes in a vector (array) and normalizes it."
   ]
  },
  {
   "cell_type": "code",
   "execution_count": 27,
   "id": "6a2cf062",
   "metadata": {},
   "outputs": [
    {
     "data": {
      "text/plain": [
       "array([0.        , 0.07142857, 0.21428571, 0.5       , 0.64285714,\n",
       "       1.        ])"
      ]
     },
     "execution_count": 27,
     "metadata": {},
     "output_type": "execute_result"
    }
   ],
   "source": [
    "import numpy as np\n",
    "# create def function for normalization\n",
    "def normalize(arr):\n",
    "     return(arr - np.min(arr)) / (np.max(arr) - np.min(arr)) # formula for normallization\n",
    "norm = [1,2,4,8,10,15]\n",
    "normalize(norm)\n"
   ]
  },
  {
   "cell_type": "markdown",
   "id": "94940f3a",
   "metadata": {},
   "source": [
    "2. Data Standardization\n",
    "Another common method to scale a data set feature is to standardize it. This calculates the z-score\n",
    "of a feature value. Given a set of values X1, X2, . . . , Xn, with sample mean X and sample standard\n",
    "deviation sX, then each corresponding standardized value is calculated using the following formula.\n",
    " \n",
    " standardized Xi = Xi − X/sX\n",
    " \n",
    "Build a Python function that takes in a vector (array) and standardizes it"
   ]
  },
  {
   "cell_type": "code",
   "execution_count": 84,
   "id": "ac432f94",
   "metadata": {},
   "outputs": [
    {
     "data": {
      "text/plain": [
       "array([-1.46385011, -0.87831007, -0.29277002,  0.29277002,  0.87831007,\n",
       "        1.46385011])"
      ]
     },
     "execution_count": 84,
     "metadata": {},
     "output_type": "execute_result"
    }
   ],
   "source": [
    "# standardization function\n",
    "def standardized(arr):\n",
    "        return (arr - np.mean(arr))/np.std(arr) # formula for standardization\n",
    "arr = [1,2,3,4,5,6]\n",
    "standardized(arr)\n",
    "    \n",
    "    "
   ]
  },
  {
   "cell_type": "markdown",
   "id": "ce2f49d5",
   "metadata": {},
   "source": [
    "## 3. Working with a Dataframe\n",
    "\n",
    "In this problem, you will be working with the data set calif housing data.csv. This data is a modified\n",
    "version of the data set from https://www.kaggle.com/camnugent/california-housing-prices?select=housing.csv.\n",
    "This data set has housing information on various California block neighborhoods. There are five\n",
    "columns in the data, which include the median age (in years) of houses on the block, the total number\n",
    "of bedrooms on the block, the total number of households on the block, the median income on the\n",
    "block, and the median house value on the block. Now, suppose you are building a model to predict\n",
    "the median house value. Use Python code to answer the following questions"
   ]
  },
  {
   "cell_type": "code",
   "execution_count": 48,
   "id": "3a8b583d",
   "metadata": {},
   "outputs": [
    {
     "data": {
      "text/html": [
       "<div>\n",
       "<style scoped>\n",
       "    .dataframe tbody tr th:only-of-type {\n",
       "        vertical-align: middle;\n",
       "    }\n",
       "\n",
       "    .dataframe tbody tr th {\n",
       "        vertical-align: top;\n",
       "    }\n",
       "\n",
       "    .dataframe thead th {\n",
       "        text-align: right;\n",
       "    }\n",
       "</style>\n",
       "<table border=\"1\" class=\"dataframe\">\n",
       "  <thead>\n",
       "    <tr style=\"text-align: right;\">\n",
       "      <th></th>\n",
       "      <th>housing_median_age</th>\n",
       "      <th>total_bedrooms</th>\n",
       "      <th>households</th>\n",
       "      <th>median_income</th>\n",
       "      <th>median_house_value</th>\n",
       "    </tr>\n",
       "  </thead>\n",
       "  <tbody>\n",
       "    <tr>\n",
       "      <th>0</th>\n",
       "      <td>41</td>\n",
       "      <td>129.0</td>\n",
       "      <td>126</td>\n",
       "      <td>8.3252</td>\n",
       "      <td>452600.0</td>\n",
       "    </tr>\n",
       "    <tr>\n",
       "      <th>1</th>\n",
       "      <td>21</td>\n",
       "      <td>1106.0</td>\n",
       "      <td>1138</td>\n",
       "      <td>8.3014</td>\n",
       "      <td>358500.0</td>\n",
       "    </tr>\n",
       "    <tr>\n",
       "      <th>2</th>\n",
       "      <td>52</td>\n",
       "      <td>190.0</td>\n",
       "      <td>177</td>\n",
       "      <td>7.2574</td>\n",
       "      <td>352100.0</td>\n",
       "    </tr>\n",
       "    <tr>\n",
       "      <th>3</th>\n",
       "      <td>52</td>\n",
       "      <td>235.0</td>\n",
       "      <td>219</td>\n",
       "      <td>5.6431</td>\n",
       "      <td>341300.0</td>\n",
       "    </tr>\n",
       "    <tr>\n",
       "      <th>4</th>\n",
       "      <td>52</td>\n",
       "      <td>280.0</td>\n",
       "      <td>259</td>\n",
       "      <td>3.8462</td>\n",
       "      <td>342200.0</td>\n",
       "    </tr>\n",
       "  </tbody>\n",
       "</table>\n",
       "</div>"
      ],
      "text/plain": [
       "   housing_median_age  total_bedrooms  households  median_income  \\\n",
       "0                  41           129.0         126         8.3252   \n",
       "1                  21          1106.0        1138         8.3014   \n",
       "2                  52           190.0         177         7.2574   \n",
       "3                  52           235.0         219         5.6431   \n",
       "4                  52           280.0         259         3.8462   \n",
       "\n",
       "   median_house_value  \n",
       "0            452600.0  \n",
       "1            358500.0  \n",
       "2            352100.0  \n",
       "3            341300.0  \n",
       "4            342200.0  "
      ]
     },
     "execution_count": 48,
     "metadata": {},
     "output_type": "execute_result"
    }
   ],
   "source": [
    "import pandas as pd\n",
    "# import file\n",
    "df = pd.read_csv(r\"C:\\Users\\bharo\\OneDrive\\Documents\\calif_housing_data.csv\")\n",
    "df.head()"
   ]
  },
  {
   "cell_type": "code",
   "execution_count": 56,
   "id": "521ae8bf",
   "metadata": {},
   "outputs": [
    {
     "data": {
      "text/plain": [
       "20640"
      ]
     },
     "execution_count": 56,
     "metadata": {},
     "output_type": "execute_result"
    }
   ],
   "source": [
    "#  How many rows does this data set have?\n",
    "df.shape[0]"
   ]
  },
  {
   "cell_type": "markdown",
   "id": "974eaf76",
   "metadata": {},
   "source": [
    "(b) What is the target vector for your model?\n",
    "\n",
    "The target vector for this model is the median house value."
   ]
  },
  {
   "cell_type": "markdown",
   "id": "efb1d510",
   "metadata": {},
   "source": [
    "(c) Create a new feature by taking the total bedrooms divided by the number of households.  What does this new feature represent?"
   ]
  },
  {
   "cell_type": "code",
   "execution_count": 68,
   "id": "e69b6f14",
   "metadata": {},
   "outputs": [
    {
     "data": {
      "text/html": [
       "<div>\n",
       "<style scoped>\n",
       "    .dataframe tbody tr th:only-of-type {\n",
       "        vertical-align: middle;\n",
       "    }\n",
       "\n",
       "    .dataframe tbody tr th {\n",
       "        vertical-align: top;\n",
       "    }\n",
       "\n",
       "    .dataframe thead th {\n",
       "        text-align: right;\n",
       "    }\n",
       "</style>\n",
       "<table border=\"1\" class=\"dataframe\">\n",
       "  <thead>\n",
       "    <tr style=\"text-align: right;\">\n",
       "      <th></th>\n",
       "      <th>housing_median_age</th>\n",
       "      <th>total_bedrooms</th>\n",
       "      <th>households</th>\n",
       "      <th>median_income</th>\n",
       "      <th>median_house_value</th>\n",
       "      <th>mean_bedroom</th>\n",
       "    </tr>\n",
       "  </thead>\n",
       "  <tbody>\n",
       "    <tr>\n",
       "      <th>0</th>\n",
       "      <td>41</td>\n",
       "      <td>129.0</td>\n",
       "      <td>126</td>\n",
       "      <td>8.3252</td>\n",
       "      <td>452600.0</td>\n",
       "      <td>1.023810</td>\n",
       "    </tr>\n",
       "    <tr>\n",
       "      <th>1</th>\n",
       "      <td>21</td>\n",
       "      <td>1106.0</td>\n",
       "      <td>1138</td>\n",
       "      <td>8.3014</td>\n",
       "      <td>358500.0</td>\n",
       "      <td>0.971880</td>\n",
       "    </tr>\n",
       "    <tr>\n",
       "      <th>2</th>\n",
       "      <td>52</td>\n",
       "      <td>190.0</td>\n",
       "      <td>177</td>\n",
       "      <td>7.2574</td>\n",
       "      <td>352100.0</td>\n",
       "      <td>1.073446</td>\n",
       "    </tr>\n",
       "    <tr>\n",
       "      <th>3</th>\n",
       "      <td>52</td>\n",
       "      <td>235.0</td>\n",
       "      <td>219</td>\n",
       "      <td>5.6431</td>\n",
       "      <td>341300.0</td>\n",
       "      <td>1.073059</td>\n",
       "    </tr>\n",
       "    <tr>\n",
       "      <th>4</th>\n",
       "      <td>52</td>\n",
       "      <td>280.0</td>\n",
       "      <td>259</td>\n",
       "      <td>3.8462</td>\n",
       "      <td>342200.0</td>\n",
       "      <td>1.081081</td>\n",
       "    </tr>\n",
       "  </tbody>\n",
       "</table>\n",
       "</div>"
      ],
      "text/plain": [
       "   housing_median_age  total_bedrooms  households  median_income  \\\n",
       "0                  41           129.0         126         8.3252   \n",
       "1                  21          1106.0        1138         8.3014   \n",
       "2                  52           190.0         177         7.2574   \n",
       "3                  52           235.0         219         5.6431   \n",
       "4                  52           280.0         259         3.8462   \n",
       "\n",
       "   median_house_value  mean_bedroom  \n",
       "0            452600.0      1.023810  \n",
       "1            358500.0      0.971880  \n",
       "2            352100.0      1.073446  \n",
       "3            341300.0      1.073059  \n",
       "4            342200.0      1.081081  "
      ]
     },
     "execution_count": 68,
     "metadata": {},
     "output_type": "execute_result"
    }
   ],
   "source": [
    "df['mean_bedroom'] = df.total_bedrooms/df.households # creating new column\n",
    "df.head()\n",
    "# it represent the mean value of total bedrooms with respect to household."
   ]
  },
  {
   "cell_type": "markdown",
   "id": "1acaa867",
   "metadata": {},
   "source": [
    "(d) Now, create a new data frame that has three features: the median age, median income, and the\n",
    "new feature created in part (c)."
   ]
  },
  {
   "cell_type": "code",
   "execution_count": 77,
   "id": "766a0468",
   "metadata": {},
   "outputs": [
    {
     "data": {
      "text/html": [
       "<div>\n",
       "<style scoped>\n",
       "    .dataframe tbody tr th:only-of-type {\n",
       "        vertical-align: middle;\n",
       "    }\n",
       "\n",
       "    .dataframe tbody tr th {\n",
       "        vertical-align: top;\n",
       "    }\n",
       "\n",
       "    .dataframe thead th {\n",
       "        text-align: right;\n",
       "    }\n",
       "</style>\n",
       "<table border=\"1\" class=\"dataframe\">\n",
       "  <thead>\n",
       "    <tr style=\"text-align: right;\">\n",
       "      <th></th>\n",
       "      <th>housing_median_age</th>\n",
       "      <th>median_income</th>\n",
       "      <th>mean_bedroom</th>\n",
       "    </tr>\n",
       "  </thead>\n",
       "  <tbody>\n",
       "    <tr>\n",
       "      <th>0</th>\n",
       "      <td>41</td>\n",
       "      <td>8.3252</td>\n",
       "      <td>1.023810</td>\n",
       "    </tr>\n",
       "    <tr>\n",
       "      <th>1</th>\n",
       "      <td>21</td>\n",
       "      <td>8.3014</td>\n",
       "      <td>0.971880</td>\n",
       "    </tr>\n",
       "    <tr>\n",
       "      <th>2</th>\n",
       "      <td>52</td>\n",
       "      <td>7.2574</td>\n",
       "      <td>1.073446</td>\n",
       "    </tr>\n",
       "    <tr>\n",
       "      <th>3</th>\n",
       "      <td>52</td>\n",
       "      <td>5.6431</td>\n",
       "      <td>1.073059</td>\n",
       "    </tr>\n",
       "    <tr>\n",
       "      <th>4</th>\n",
       "      <td>52</td>\n",
       "      <td>3.8462</td>\n",
       "      <td>1.081081</td>\n",
       "    </tr>\n",
       "  </tbody>\n",
       "</table>\n",
       "</div>"
      ],
      "text/plain": [
       "   housing_median_age  median_income  mean_bedroom\n",
       "0                  41         8.3252      1.023810\n",
       "1                  21         8.3014      0.971880\n",
       "2                  52         7.2574      1.073446\n",
       "3                  52         5.6431      1.073059\n",
       "4                  52         3.8462      1.081081"
      ]
     },
     "execution_count": 77,
     "metadata": {},
     "output_type": "execute_result"
    }
   ],
   "source": [
    "new_df = df[['housing_median_age','median_income','mean_bedroom']]\n",
    "new_df.head()\n"
   ]
  },
  {
   "cell_type": "markdown",
   "id": "f0c14422",
   "metadata": {},
   "source": [
    "(e) Take the data frame created in part (d) and apply data standardization to the features."
   ]
  },
  {
   "cell_type": "code",
   "execution_count": 85,
   "id": "b9cd9e6b",
   "metadata": {},
   "outputs": [
    {
     "name": "stderr",
     "output_type": "stream",
     "text": [
      "C:\\Users\\bharo\\anaconda3\\lib\\site-packages\\numpy\\core\\fromnumeric.py:84: FutureWarning: In a future version, DataFrame.min(axis=None) will return a scalar min over the entire DataFrame. To retain the old behavior, use 'frame.min(axis=0)' or just 'frame.min()'\n",
      "  return reduction(axis=axis, out=out, **passkwargs)\n",
      "C:\\Users\\bharo\\anaconda3\\lib\\site-packages\\numpy\\core\\fromnumeric.py:84: FutureWarning: In a future version, DataFrame.max(axis=None) will return a scalar max over the entire DataFrame. To retain the old behavior, use 'frame.max(axis=0)' or just 'frame.max()'\n",
      "  return reduction(axis=axis, out=out, **passkwargs)\n"
     ]
    },
    {
     "data": {
      "text/html": [
       "<div>\n",
       "<style scoped>\n",
       "    .dataframe tbody tr th:only-of-type {\n",
       "        vertical-align: middle;\n",
       "    }\n",
       "\n",
       "    .dataframe tbody tr th {\n",
       "        vertical-align: top;\n",
       "    }\n",
       "\n",
       "    .dataframe thead th {\n",
       "        text-align: right;\n",
       "    }\n",
       "</style>\n",
       "<table border=\"1\" class=\"dataframe\">\n",
       "  <thead>\n",
       "    <tr style=\"text-align: right;\">\n",
       "      <th></th>\n",
       "      <th>housing_median_age</th>\n",
       "      <th>median_income</th>\n",
       "      <th>mean_bedroom</th>\n",
       "    </tr>\n",
       "  </thead>\n",
       "  <tbody>\n",
       "    <tr>\n",
       "      <th>0</th>\n",
       "      <td>0.784314</td>\n",
       "      <td>0.539668</td>\n",
       "      <td>0.020469</td>\n",
       "    </tr>\n",
       "    <tr>\n",
       "      <th>1</th>\n",
       "      <td>0.392157</td>\n",
       "      <td>0.538027</td>\n",
       "      <td>0.018929</td>\n",
       "    </tr>\n",
       "    <tr>\n",
       "      <th>2</th>\n",
       "      <td>1.000000</td>\n",
       "      <td>0.466028</td>\n",
       "      <td>0.021940</td>\n",
       "    </tr>\n",
       "    <tr>\n",
       "      <th>3</th>\n",
       "      <td>1.000000</td>\n",
       "      <td>0.354699</td>\n",
       "      <td>0.021929</td>\n",
       "    </tr>\n",
       "    <tr>\n",
       "      <th>4</th>\n",
       "      <td>1.000000</td>\n",
       "      <td>0.230776</td>\n",
       "      <td>0.022166</td>\n",
       "    </tr>\n",
       "    <tr>\n",
       "      <th>...</th>\n",
       "      <td>...</td>\n",
       "      <td>...</td>\n",
       "      <td>...</td>\n",
       "    </tr>\n",
       "    <tr>\n",
       "      <th>20635</th>\n",
       "      <td>0.470588</td>\n",
       "      <td>0.073130</td>\n",
       "      <td>0.023715</td>\n",
       "    </tr>\n",
       "    <tr>\n",
       "      <th>20636</th>\n",
       "      <td>0.333333</td>\n",
       "      <td>0.141853</td>\n",
       "      <td>0.029124</td>\n",
       "    </tr>\n",
       "    <tr>\n",
       "      <th>20637</th>\n",
       "      <td>0.313725</td>\n",
       "      <td>0.082764</td>\n",
       "      <td>0.023323</td>\n",
       "    </tr>\n",
       "    <tr>\n",
       "      <th>20638</th>\n",
       "      <td>0.333333</td>\n",
       "      <td>0.094295</td>\n",
       "      <td>0.024859</td>\n",
       "    </tr>\n",
       "    <tr>\n",
       "      <th>20639</th>\n",
       "      <td>0.294118</td>\n",
       "      <td>0.130253</td>\n",
       "      <td>0.024573</td>\n",
       "    </tr>\n",
       "  </tbody>\n",
       "</table>\n",
       "<p>20640 rows × 3 columns</p>\n",
       "</div>"
      ],
      "text/plain": [
       "       housing_median_age  median_income  mean_bedroom\n",
       "0                0.784314       0.539668      0.020469\n",
       "1                0.392157       0.538027      0.018929\n",
       "2                1.000000       0.466028      0.021940\n",
       "3                1.000000       0.354699      0.021929\n",
       "4                1.000000       0.230776      0.022166\n",
       "...                   ...            ...           ...\n",
       "20635            0.470588       0.073130      0.023715\n",
       "20636            0.333333       0.141853      0.029124\n",
       "20637            0.313725       0.082764      0.023323\n",
       "20638            0.333333       0.094295      0.024859\n",
       "20639            0.294118       0.130253      0.024573\n",
       "\n",
       "[20640 rows x 3 columns]"
      ]
     },
     "execution_count": 85,
     "metadata": {},
     "output_type": "execute_result"
    }
   ],
   "source": [
    "# calling normalize()\n",
    "normalize(new_df) \n"
   ]
  },
  {
   "cell_type": "code",
   "execution_count": 86,
   "id": "603775a1",
   "metadata": {},
   "outputs": [
    {
     "name": "stderr",
     "output_type": "stream",
     "text": [
      "C:\\Users\\bharo\\anaconda3\\lib\\site-packages\\numpy\\core\\fromnumeric.py:3438: FutureWarning: In a future version, DataFrame.mean(axis=None) will return a scalar mean over the entire DataFrame. To retain the old behavior, use 'frame.mean(axis=0)' or just 'frame.mean()'\n",
      "  return mean(axis=axis, dtype=dtype, out=out, **kwargs)\n"
     ]
    },
    {
     "data": {
      "text/html": [
       "<div>\n",
       "<style scoped>\n",
       "    .dataframe tbody tr th:only-of-type {\n",
       "        vertical-align: middle;\n",
       "    }\n",
       "\n",
       "    .dataframe tbody tr th {\n",
       "        vertical-align: top;\n",
       "    }\n",
       "\n",
       "    .dataframe thead th {\n",
       "        text-align: right;\n",
       "    }\n",
       "</style>\n",
       "<table border=\"1\" class=\"dataframe\">\n",
       "  <thead>\n",
       "    <tr style=\"text-align: right;\">\n",
       "      <th></th>\n",
       "      <th>housing_median_age</th>\n",
       "      <th>median_income</th>\n",
       "      <th>mean_bedroom</th>\n",
       "    </tr>\n",
       "  </thead>\n",
       "  <tbody>\n",
       "    <tr>\n",
       "      <th>0</th>\n",
       "      <td>0.982143</td>\n",
       "      <td>2.344766</td>\n",
       "      <td>-0.153863</td>\n",
       "    </tr>\n",
       "    <tr>\n",
       "      <th>1</th>\n",
       "      <td>-0.607019</td>\n",
       "      <td>2.332238</td>\n",
       "      <td>-0.262936</td>\n",
       "    </tr>\n",
       "    <tr>\n",
       "      <th>2</th>\n",
       "      <td>1.856182</td>\n",
       "      <td>1.782699</td>\n",
       "      <td>-0.049604</td>\n",
       "    </tr>\n",
       "    <tr>\n",
       "      <th>3</th>\n",
       "      <td>1.856182</td>\n",
       "      <td>0.932968</td>\n",
       "      <td>-0.050417</td>\n",
       "    </tr>\n",
       "    <tr>\n",
       "      <th>4</th>\n",
       "      <td>1.856182</td>\n",
       "      <td>-0.012881</td>\n",
       "      <td>-0.033568</td>\n",
       "    </tr>\n",
       "    <tr>\n",
       "      <th>...</th>\n",
       "      <td>...</td>\n",
       "      <td>...</td>\n",
       "      <td>...</td>\n",
       "    </tr>\n",
       "    <tr>\n",
       "      <th>20635</th>\n",
       "      <td>-0.289187</td>\n",
       "      <td>-1.216128</td>\n",
       "      <td>0.076185</td>\n",
       "    </tr>\n",
       "    <tr>\n",
       "      <th>20636</th>\n",
       "      <td>-0.845393</td>\n",
       "      <td>-0.691593</td>\n",
       "      <td>0.459421</td>\n",
       "    </tr>\n",
       "    <tr>\n",
       "      <th>20637</th>\n",
       "      <td>-0.924851</td>\n",
       "      <td>-1.142593</td>\n",
       "      <td>0.048373</td>\n",
       "    </tr>\n",
       "    <tr>\n",
       "      <th>20638</th>\n",
       "      <td>-0.845393</td>\n",
       "      <td>-1.054583</td>\n",
       "      <td>0.157233</td>\n",
       "    </tr>\n",
       "    <tr>\n",
       "      <th>20639</th>\n",
       "      <td>-1.004309</td>\n",
       "      <td>-0.780129</td>\n",
       "      <td>0.136952</td>\n",
       "    </tr>\n",
       "  </tbody>\n",
       "</table>\n",
       "<p>20640 rows × 3 columns</p>\n",
       "</div>"
      ],
      "text/plain": [
       "       housing_median_age  median_income  mean_bedroom\n",
       "0                0.982143       2.344766     -0.153863\n",
       "1               -0.607019       2.332238     -0.262936\n",
       "2                1.856182       1.782699     -0.049604\n",
       "3                1.856182       0.932968     -0.050417\n",
       "4                1.856182      -0.012881     -0.033568\n",
       "...                   ...            ...           ...\n",
       "20635           -0.289187      -1.216128      0.076185\n",
       "20636           -0.845393      -0.691593      0.459421\n",
       "20637           -0.924851      -1.142593      0.048373\n",
       "20638           -0.845393      -1.054583      0.157233\n",
       "20639           -1.004309      -0.780129      0.136952\n",
       "\n",
       "[20640 rows x 3 columns]"
      ]
     },
     "execution_count": 86,
     "metadata": {},
     "output_type": "execute_result"
    }
   ],
   "source": [
    "# calling standardized()\n",
    "standardized(new_df)"
   ]
  },
  {
   "cell_type": "code",
   "execution_count": null,
   "id": "820979ac",
   "metadata": {},
   "outputs": [],
   "source": [
    "#"
   ]
  }
 ],
 "metadata": {
  "kernelspec": {
   "display_name": "Python 3 (ipykernel)",
   "language": "python",
   "name": "python3"
  },
  "language_info": {
   "codemirror_mode": {
    "name": "ipython",
    "version": 3
   },
   "file_extension": ".py",
   "mimetype": "text/x-python",
   "name": "python",
   "nbconvert_exporter": "python",
   "pygments_lexer": "ipython3",
   "version": "3.9.13"
  }
 },
 "nbformat": 4,
 "nbformat_minor": 5
}
